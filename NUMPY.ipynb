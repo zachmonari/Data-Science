{
 "nbformat": 4,
 "nbformat_minor": 0,
 "metadata": {
  "colab": {
   "provenance": []
  },
  "kernelspec": {
   "name": "python3",
   "display_name": "Python 3"
  },
  "language_info": {
   "name": "python"
  }
 },
 "cells": [
  {
   "cell_type": "code",
   "execution_count": 2,
   "metadata": {
    "colab": {
     "base_uri": "https://localhost:8080/"
    },
    "id": "cEMedJO3Fdep",
    "outputId": "3207335d-4e55-41af-ce21-dfaa07688af4"
   },
   "outputs": [
    {
     "output_type": "stream",
     "name": "stdout",
     "text": [
      "[1, 2, 3, 4, 1, 2, 3, 4]\n",
      "[2 4 6 8]\n"
     ]
    }
   ],
   "source": [
    "import numpy1 as np\n",
    "list1=[1,2,3,4]*2\n",
    "print(list1)\n",
    "arr1=np.array([1,2,3,4])*2\n",
    "print(arr1)\n"
   ]
  },
  {
   "cell_type": "code",
   "source": [
    "array=np.array([[[ 'A','B','C'],['D','E','F'],['G','H','I']],\n",
    "               [[ 'J','K','L'],['M','N','O'],['P','Q','R']],\n",
    "               [[ 'A','B','C'],['D','E','F'],['G','H','I']]])\n",
    "print(array.ndim)\n",
    "print(array.shape)\n",
    "print(array.size)\n",
    "print(array.dtype)\n",
    "print(array.itemsize)\n",
    "print(array.data)\n",
    "print(array[0][0][0])\n",
    "print(array[0,0,1])\n",
    "word=array[1,1,0]+array[0,0,0]+array[1,1,1]\n",
    "print(word)"
   ],
   "metadata": {
    "colab": {
     "base_uri": "https://localhost:8080/"
    },
    "id": "h8HySx1FF9No",
    "outputId": "03856419-9c58-4326-c6a1-153ecebd7397"
   },
   "execution_count": 15,
   "outputs": [
    {
     "output_type": "stream",
     "name": "stdout",
     "text": [
      "3\n",
      "(3, 3, 3)\n",
      "27\n",
      "<U1\n",
      "4\n",
      "<memory at 0x7ed20ec23d30>\n",
      "A\n",
      "B\n",
      "MAN\n"
     ]
    }
   ]
  },
  {
   "cell_type": "code",
   "source": [
    "#slicing\n",
    "array=np.array([[1,2,3,4],\n",
    "                [5,6,7,8],\n",
    "                [9,10,11,12],\n",
    "                 [13,14,15,16]])\n",
    "\n",
    "#array[start:end:step]\n",
    "#print(array[0])\n",
    "print(array[::2])\n",
    "print(array[:,-1])\n",
    "\n",
    "print(array[:,::-2])\n",
    "print(array[2:,1:3])\n",
    "print(array[2:,2:])"
   ],
   "metadata": {
    "colab": {
     "base_uri": "https://localhost:8080/"
    },
    "id": "qqMoQuZwJKcD",
    "outputId": "59fab9dd-9af8-4506-d1b8-6c883e7dcd7b"
   },
   "execution_count": 43,
   "outputs": [
    {
     "output_type": "stream",
     "name": "stdout",
     "text": [
      "[[ 1  2  3  4]\n",
      " [ 9 10 11 12]]\n",
      "[ 4  8 12 16]\n",
      "[[ 4  2]\n",
      " [ 8  6]\n",
      " [12 10]\n",
      " [16 14]]\n",
      "[[10 11]\n",
      " [14 15]]\n",
      "[[11 12]\n",
      " [15 16]]\n"
     ]
    }
   ]
  },
  {
   "cell_type": "code",
   "source": [
    "#arithmetic\n",
    "#scalar\n",
    "\n",
    "array=np.array([1,2,3])\n",
    "print(array+1)\n",
    "print(array-1)\n",
    "print(array*2)\n",
    "print(array/2)\n",
    "print(array**3)"
   ],
   "metadata": {
    "colab": {
     "base_uri": "https://localhost:8080/"
    },
    "id": "aPl7pFAyNFUI",
    "outputId": "1642086b-7d90-4a01-e45b-9125b1028c7d"
   },
   "execution_count": 45,
   "outputs": [
    {
     "output_type": "stream",
     "name": "stdout",
     "text": [
      "[2 3 4]\n",
      "[0 1 2]\n",
      "[2 4 6]\n",
      "[0.5 1.  1.5]\n",
      "[ 1  8 27]\n"
     ]
    }
   ]
  },
  {
   "cell_type": "code",
   "source": [
    "#vectorized math functions\n",
    "array=np.array([1,2,3])\n",
    "print(np.sqrt(array))\n",
    "print(np.log(array))\n",
    "print(np.exp(array))\n",
    "print(np.amax(array))\n",
    "print(np.pi*array**2)"
   ],
   "metadata": {
    "colab": {
     "base_uri": "https://localhost:8080/"
    },
    "id": "OZrVs8RbN5ya",
    "outputId": "d01ca29d-072f-4cdb-a9f6-cd83faeb71fc"
   },
   "execution_count": 49,
   "outputs": [
    {
     "output_type": "stream",
     "name": "stdout",
     "text": [
      "[1.         1.41421356 1.73205081]\n",
      "[0.         0.69314718 1.09861229]\n",
      "[ 2.71828183  7.3890561  20.08553692]\n",
      "3\n",
      "[ 3.14159265 12.56637061 28.27433388]\n"
     ]
    }
   ]
  },
  {
   "cell_type": "code",
   "source": [
    "scores=np.array([60,70,75,80,90,98])\n",
    "print(scores[scores>70])\n",
    "scores[scores<70]=0\n",
    "print(scores)\n",
    "print(scores==80)\n",
    "print(scores<=80)"
   ],
   "metadata": {
    "colab": {
     "base_uri": "https://localhost:8080/"
    },
    "id": "ElsQ318qPpPb",
    "outputId": "e844844b-b40c-4427-fa1c-baba7d6fff7a"
   },
   "execution_count": 53,
   "outputs": [
    {
     "output_type": "stream",
     "name": "stdout",
     "text": [
      "[75 80 90 98]\n",
      "[ 0 70 75 80 90 98]\n",
      "[False False False  True False False]\n",
      "[ True  True  True  True False False]\n"
     ]
    }
   ]
  },
  {
   "cell_type": "code",
   "source": [
    "# broadcasting\n",
    "#number of columns should match or have a 1\n",
    "array1=np.array([[1,2,3,4]])\n",
    "array2=np.array([[1],[2],[3]])\n",
    "print(array1+array2)\n",
    "print(array1*array2)\n",
    "print(array1.shape)\n",
    "print(array2.shape)"
   ],
   "metadata": {
    "colab": {
     "base_uri": "https://localhost:8080/"
    },
    "id": "h97OuMIkiroN",
    "outputId": "4c6b04c8-7a7b-489e-d755-4deb58642251"
   },
   "execution_count": 59,
   "outputs": [
    {
     "output_type": "stream",
     "name": "stdout",
     "text": [
      "[[2 3 4 5]\n",
      " [3 4 5 6]\n",
      " [4 5 6 7]]\n",
      "[[ 1  2  3  4]\n",
      " [ 2  4  6  8]\n",
      " [ 3  6  9 12]]\n",
      "(1, 4)\n",
      "(3, 1)\n"
     ]
    }
   ]
  },
  {
   "cell_type": "code",
   "source": [
    "array1=np.array([[1,2,3,4,5,6,7,8,9,10]])\n",
    "array2=np.array([[1],[2],[3],[4],[5],[6],[7],[8],[9],[10]])\n",
    "\n",
    "print(array1.shape)\n",
    "print(array2.shape)\n",
    "\n",
    "print(array1*array2)"
   ],
   "metadata": {
    "colab": {
     "base_uri": "https://localhost:8080/"
    },
    "id": "WIn-axWulp09",
    "outputId": "ac2d3d88-46a1-4add-b148-47fbc8cd7f93"
   },
   "execution_count": 61,
   "outputs": [
    {
     "output_type": "stream",
     "name": "stdout",
     "text": [
      "(1, 10)\n",
      "(10, 1)\n",
      "[[  1   2   3   4   5   6   7   8   9  10]\n",
      " [  2   4   6   8  10  12  14  16  18  20]\n",
      " [  3   6   9  12  15  18  21  24  27  30]\n",
      " [  4   8  12  16  20  24  28  32  36  40]\n",
      " [  5  10  15  20  25  30  35  40  45  50]\n",
      " [  6  12  18  24  30  36  42  48  54  60]\n",
      " [  7  14  21  28  35  42  49  56  63  70]\n",
      " [  8  16  24  32  40  48  56  64  72  80]\n",
      " [  9  18  27  36  45  54  63  72  81  90]\n",
      " [ 10  20  30  40  50  60  70  80  90 100]]\n"
     ]
    }
   ]
  },
  {
   "cell_type": "code",
   "source": [
    "#Aggregate functions= summarize data and typically return a single value\n",
    "\n",
    "array=np.array([[1,2,3,4,5],\n",
    "                [6,7,8,9,10]])\n",
    "print(np.sum(array))\n",
    "print(np.mean(array))\n",
    "print(np.std(array))\n",
    "print(np.var(array))\n",
    "print(np.min(array))\n",
    "print(np.max(array))\n",
    "print(np.argmin(array))\n",
    "print(np.argmax(array))\n",
    "print(np.sum(array,axis=0))\n",
    "print(np.sum(array,axis=1))"
   ],
   "metadata": {
    "colab": {
     "base_uri": "https://localhost:8080/"
    },
    "id": "ZaLKSCHmmNof",
    "outputId": "2a0f36f9-8d99-41a6-b1b3-be77fd3f9e2c"
   },
   "execution_count": 65,
   "outputs": [
    {
     "output_type": "stream",
     "name": "stdout",
     "text": [
      "55\n",
      "5.5\n",
      "2.8722813232690143\n",
      "8.25\n",
      "1\n",
      "10\n",
      "0\n",
      "9\n",
      "[ 7  9 11 13 15]\n",
      "[15 40]\n"
     ]
    }
   ]
  },
  {
   "cell_type": "code",
   "source": [
    "#Filtering= process of selecting elements from an array that match a given condition\n",
    "ages=np.array([[20,21,22,14,18,16,15,25],\n",
    "              [26,30,60,55,23,13,17,40]])\n",
    "teenagers=ages[ages<18]\n",
    "print(teenagers)\n",
    "\n",
    "adults=ages[(ages>=18) & (ages<=50)]\n",
    "print(adults)\n",
    "seniors=ages[ages>50]\n",
    "print(seniors)\n",
    "\n",
    "adults=np.where(ages>=18,ages,0) #preserves original form of data\n",
    "print(adults)\n"
   ],
   "metadata": {
    "colab": {
     "base_uri": "https://localhost:8080/"
    },
    "id": "DLs1_PcxpApA",
    "outputId": "5131057b-46af-459d-affe-83487002c111"
   },
   "execution_count": 5,
   "outputs": [
    {
     "output_type": "stream",
     "name": "stdout",
     "text": [
      "[14 16 15 13 17]\n",
      "[20 21 22 18 25 26 30 23 40]\n",
      "[60 55]\n",
      "[[20 21 22  0 18  0  0 25]\n",
      " [26 30 60 55 23  0  0 40]]\n"
     ]
    }
   ]
  },
  {
   "cell_type": "code",
   "source": [
    "#random numbers\n",
    "rng=np.random.default_rng(seed=1)\n",
    "print(rng.integers(low=1, high=101, size=(3,2)))\n",
    "array=rng.integers(1,10,size=(3,3))\n",
    "print(array)\n",
    "array=rng.random((3,3))\n",
    "print(array)"
   ],
   "metadata": {
    "colab": {
     "base_uri": "https://localhost:8080/"
    },
    "id": "uLuFXU0nFgsB",
    "outputId": "2354c09b-ad79-4d33-de8b-59608d2a3630"
   },
   "execution_count": 10,
   "outputs": [
    {
     "output_type": "stream",
     "name": "stdout",
     "text": [
      "[[48 52]\n",
      " [76 96]\n",
      " [ 4 15]]\n",
      "[[8 9 3]\n",
      " [3 8 4]\n",
      " [3 8 3]]\n",
      "[[0.54959369 0.02755911 0.75351311]\n",
      " [0.53814331 0.32973172 0.7884287 ]\n",
      " [0.30319483 0.45349789 0.1340417 ]]\n"
     ]
    }
   ]
  },
  {
   "cell_type": "code",
   "source": [
    "rng=np.random.default_rng()\n",
    "names=np.array([\"zach🚗\",\"kev\",\"dan\",\"ian\",\"jim\"])\n",
    "names=np.sort(names)\n",
    "print(names)\n",
    "\n",
    "name=rng.choice(names)\n",
    "print(name)\n",
    "names=rng.choice(names,size=(2,2))\n",
    "print(names)"
   ],
   "metadata": {
    "colab": {
     "base_uri": "https://localhost:8080/"
    },
    "id": "93DGXYXNHgiL",
    "outputId": "9d795d1d-8780-4ec8-e9aa-944a15d090d5"
   },
   "execution_count": 34,
   "outputs": [
    {
     "output_type": "stream",
     "name": "stdout",
     "text": [
      "['dan' 'ian' 'jim' 'kev' 'zach🚗']\n",
      "dan\n",
      "[['ian' 'zach🚗']\n",
      " ['dan' 'kev']]\n"
     ]
    }
   ]
  },
  {
   "cell_type": "code",
   "source": [
    "#np.random.seed(seed=1)\n",
    "print(np.random.uniform(low=-1, high=1, size=(3,3)))\n",
    "rng=np.random.default_rng()\n",
    "#print(rng.uniform(low=-1, high=1, size=(3,3)))\n",
    "array=np.array([1,2,3,4,5])\n",
    "rng.shuffle(array)\n",
    "print(array)"
   ],
   "metadata": {
    "colab": {
     "base_uri": "https://localhost:8080/"
    },
    "id": "MIznCUlkGzdD",
    "outputId": "a99ce0d9-9d69-4a35-9246-24f389e3871c"
   },
   "execution_count": 27,
   "outputs": [
    {
     "output_type": "stream",
     "name": "stdout",
     "text": [
      "[[ 0.24734441  0.50188487 -0.30220332]\n",
      " [-0.46014422  0.79177244 -0.14381762]\n",
      " [ 0.92968009  0.326883    0.24339144]]\n",
      "[3 5 4 2 1]\n"
     ]
    }
   ]
  }
 ]
}
